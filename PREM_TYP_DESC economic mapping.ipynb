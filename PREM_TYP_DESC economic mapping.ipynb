{
 "cells": [
  {
   "cell_type": "code",
   "execution_count": 2,
   "id": "9f62d606",
   "metadata": {},
   "outputs": [
    {
     "name": "stdout",
     "output_type": "stream",
     "text": [
      "The economic values have been saved to 'economic_values.csv'.\n",
      "{'STREET': 1, 'BANK': 10, 'CHAIN STORE': 5, 'OTHER': 1, 'GROCERY/BODEGA': 4, 'BUS (NYC TRANSIT)': 3, 'RESIDENCE-HOUSE': 4, 'RESIDENCE - APT. HOUSE': 4, 'FOOD SUPERMARKET': 5, 'BAR/NIGHT CLUB': 6, 'HOSPITAL': 9, 'HOTEL/MOTEL': 7, 'FAST FOOD': 4, 'DRY CLEANER/LAUNDRY': 2, 'CHECK CASHING BUSINESS': 8, 'COMMERCIAL BUILDING': 10, 'RESTAURANT/DINER': 5, 'PUBLIC SCHOOL': 6, 'PARKING LOT/GARAGE (PUBLIC)': 2, 'PARKING LOT/GARAGE (PRIVATE)': 2, 'RESIDENCE - PUBLIC HOUSING': 4, 'GAS STATION': 5, 'TELECOMM. STORE': 5, 'DOCTOR/DENTIST OFFICE': 7, 'DEPARTMENT STORE': 8, 'TUNNEL': 1, 'BUS (OTHER)': 3, 'LOAN COMPANY': 10, 'SMALL MERCHANT': 4, 'BUS STOP': 2, 'CLOTHING/BOUTIQUE': 5, 'PARK/PLAYGROUND': 1, 'STORE UNCLASSIFIED': 3, 'CANDY STORE': 2, 'VARIETY STORE': 4, 'OPEN AREAS (OPEN LOTS)': 1, 'CHURCH': 2, 'MARINA/PIER': 2, 'PRIVATE/PAROCHIAL SCHOOL': 6, 'PUBLIC BUILDING': 6, 'DRUG STORE': 5, 'ATM': 9, 'TAXI (YELLOW LICENSED)': 3, 'GYM/FITNESS FACILITY': 4, 'BRIDGE': 1, 'CEMETERY': 1, 'FERRY/FERRY TERMINAL': 3, 'VIDEO STORE': 2, 'HIGHWAY/PARKWAY': 1, 'CONSTRUCTION SITE': 5, 'BEAUTY & NAIL SALON': 3, 'BOOK/CARD': 2, 'SHOE': 4, 'STORAGE FACILITY': 2, 'TAXI (LIVERY LICENSED)': 3, 'TRANSIT - NYC SUBWAY': 7, 'TAXI/LIVERY (UNLICENSED)': 3, 'PHOTO/COPY': 3, 'SOCIAL CLUB/POLICY': 5, 'BUS TERMINAL': 3, 'TRANSIT FACILITY (OTHER)': 2, 'FACTORY/WAREHOUSE': 6, 'OTHER HOUSE OF WORSHIP': 2, 'LIQUOR STORE': 5, 'SYNAGOGUE': 2, 'JEWELRY': 9, 'MOSQUE': 2, 'ABANDONED BUILDING': 1, 'AIRPORT TERMINAL': 10, 'COLLEGE/UNIVERSITY': 8, 'TRAMWAY': 2, 'MULTI DWELL - APT BUILD': 4, 'MULTI DWELL - PUBLIC HOUS': 4, 'REAL ESTATE': 7, 'MOBILE FOOD': 3, 'MAILBOX OUTSIDE': 1, 'MAILBOX INSIDE': 1, 'PVT HOUSE': 4, 'SUPERMARKET': 5, 'COMMERCIAL BLDG': 10, 'HOMELESS SHELTER': 3, 'DAYCARE FACILITY': 6, 'BEAUTY/NAIL SALON': 3, 'SOCIAL CLUB/POLICY LOCATI': 5, 'DEPT STORE': 8, 'SMOKE SHOP': 3}\n"
     ]
    }
   ],
   "source": [
    "import pandas as pd\n",
    "\n",
    "economic_values = {\n",
    "    'STREET': 1, 'BANK': 10, 'CHAIN STORE': 5, 'OTHER': 1, 'GROCERY/BODEGA': 4,\n",
    "    'BUS (NYC TRANSIT)': 3, 'RESIDENCE-HOUSE': 4, 'RESIDENCE - APT. HOUSE': 4,\n",
    "    'FOOD SUPERMARKET': 5, 'BAR/NIGHT CLUB': 6, 'HOSPITAL': 9, 'HOTEL/MOTEL': 7,\n",
    "    'FAST FOOD': 4, 'DRY CLEANER/LAUNDRY': 2, 'CHECK CASHING BUSINESS': 8,\n",
    "    'COMMERCIAL BUILDING': 10, 'RESTAURANT/DINER': 5, 'PUBLIC SCHOOL': 6,\n",
    "    'PARKING LOT/GARAGE (PUBLIC)': 2, 'PARKING LOT/GARAGE (PRIVATE)': 2,\n",
    "    'RESIDENCE - PUBLIC HOUSING': 4, 'GAS STATION': 5, 'TELECOMM. STORE': 5,\n",
    "    'DOCTOR/DENTIST OFFICE': 7, 'DEPARTMENT STORE': 8, 'TUNNEL': 1,\n",
    "    'BUS (OTHER)': 3, 'LOAN COMPANY': 10, 'SMALL MERCHANT': 4, 'BUS STOP': 2,\n",
    "    'CLOTHING/BOUTIQUE': 5, 'PARK/PLAYGROUND': 1, 'STORE UNCLASSIFIED': 3,\n",
    "    'CANDY STORE': 2, 'VARIETY STORE': 4, 'OPEN AREAS (OPEN LOTS)': 1, 'CHURCH': 2,\n",
    "    'MARINA/PIER': 2, 'PRIVATE/PAROCHIAL SCHOOL': 6, 'PUBLIC BUILDING': 6,\n",
    "    'DRUG STORE': 5, 'ATM': 9, 'TAXI (YELLOW LICENSED)': 3,\n",
    "    'GYM/FITNESS FACILITY': 4, 'BRIDGE': 1, 'CEMETERY': 1,\n",
    "    'FERRY/FERRY TERMINAL': 3, 'VIDEO STORE': 2, 'HIGHWAY/PARKWAY': 1,\n",
    "    'CONSTRUCTION SITE': 5, 'BEAUTY & NAIL SALON': 3, 'BOOK/CARD': 2, 'SHOE': 4,\n",
    "    'STORAGE FACILITY': 2, 'TAXI (LIVERY LICENSED)': 3,\n",
    "    'TRANSIT - NYC SUBWAY': 7, 'TAXI/LIVERY (UNLICENSED)': 3, 'PHOTO/COPY': 3,\n",
    "    'SOCIAL CLUB/POLICY': 5, 'BUS TERMINAL': 3, 'TRANSIT FACILITY (OTHER)': 2,\n",
    "    'FACTORY/WAREHOUSE': 6, 'OTHER HOUSE OF WORSHIP': 2, 'LIQUOR STORE': 5,\n",
    "    'SYNAGOGUE': 2, 'JEWELRY': 9, 'MOSQUE': 2, 'ABANDONED BUILDING': 1,\n",
    "    'AIRPORT TERMINAL': 10, 'COLLEGE/UNIVERSITY': 8, 'TRAMWAY': 2,\n",
    "    'MULTI DWELL - APT BUILD': 4, 'MULTI DWELL - PUBLIC HOUS': 4,\n",
    "    'REAL ESTATE': 7, 'MOBILE FOOD': 3, 'MAILBOX OUTSIDE': 1, 'MAILBOX INSIDE': 1,\n",
    "    'PVT HOUSE': 4, 'SUPERMARKET': 5, 'COMMERCIAL BLDG': 10, 'HOMELESS SHELTER': 3,\n",
    "    'DAYCARE FACILITY': 6, 'BEAUTY/NAIL SALON': 3,\n",
    "    'SOCIAL CLUB/POLICY LOCATI': 5, 'DEPT STORE': 8, 'SMOKE SHOP': 3\n",
    "}\n",
    "\n",
    "# Convert dictionary to DataFrame\n",
    "economic_df = pd.DataFrame(list(economic_values.items()), columns=['Premise_Type', 'Economic_Value'])\n",
    "\n",
    "# Save the DataFrame to CSV\n",
    "economic_df.to_csv('economic_values.csv', index=False)\n",
    "\n",
    "print(\"The economic values have been saved to 'economic_values.csv'.\")\n",
    "\n",
    "economic_df = pd.read_csv('economic_values.csv')\n",
    "\n",
    "# Convert DataFrame back to a dictionary\n",
    "economic_values_dict = pd.Series(economic_df.Economic_Value.values, index=economic_df.Premise_Type).to_dict()\n",
    "\n",
    "# Print the dictionary to verify\n",
    "print(economic_values_dict)\n"
   ]
  },
  {
   "cell_type": "code",
   "execution_count": null,
   "id": "72713404",
   "metadata": {},
   "outputs": [],
   "source": []
  }
 ],
 "metadata": {
  "kernelspec": {
   "display_name": "Python 3 (ipykernel)",
   "language": "python",
   "name": "python3"
  },
  "language_info": {
   "codemirror_mode": {
    "name": "ipython",
    "version": 3
   },
   "file_extension": ".py",
   "mimetype": "text/x-python",
   "name": "python",
   "nbconvert_exporter": "python",
   "pygments_lexer": "ipython3",
   "version": "3.11.5"
  }
 },
 "nbformat": 4,
 "nbformat_minor": 5
}
